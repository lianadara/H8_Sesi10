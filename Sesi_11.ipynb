{
  "nbformat": 4,
  "nbformat_minor": 0,
  "metadata": {
    "colab": {
      "provenance": []
    },
    "kernelspec": {
      "name": "python3",
      "display_name": "Python 3"
    },
    "language_info": {
      "name": "python"
    }
  },
  "cells": [
    {
      "cell_type": "code",
      "execution_count": 6,
      "metadata": {
        "colab": {
          "base_uri": "https://localhost:8080/"
        },
        "id": "8ubbVR7hVEIb",
        "outputId": "0921d1e6-f7ed-4b24-b790-a91860d7e053"
      },
      "outputs": [
        {
          "output_type": "stream",
          "name": "stdout",
          "text": [
            "yes x<y\n",
            "yes y\n",
            "aul in grault\n"
          ]
        }
      ],
      "source": [
        "x=0\n",
        "y=5\n",
        "\n",
        "if x<y:\n",
        "  print(\"yes x<y\")\n",
        "if y<x:\n",
        "  print(\"yes y<x\")\n",
        "if x:\n",
        "  print(\"yes x\")\n",
        "if y: #ini true karena nilai bukan 0 dianggap true\n",
        "  print(\"yes y\")\n",
        "if 'aul' in 'grault':\n",
        "  print(\"aul in grault\")\n",
        "if 'quux' in ['foo', 'bar','baz']:\n",
        "  print(\"quux in list\")"
      ]
    },
    {
      "cell_type": "code",
      "source": [
        "if 'foo' in ['foo', 'bar','baz']:\n",
        "  print('Outer condition is true') #true\n",
        "\n",
        "  if 10>20:\n",
        "    print('Inner condition 1')\n",
        "\n",
        "  print('Between inner conditions') #true\n",
        "\n",
        "  if 10<20:\n",
        "    print('Inner condition 2') #true\n",
        "\n",
        "  print('End of outer condition') #true\n",
        "\n",
        "print('After outer condition') #true"
      ],
      "metadata": {
        "colab": {
          "base_uri": "https://localhost:8080/"
        },
        "id": "-DKkbTBdVsGM",
        "outputId": "4bdb0ca1-cef3-4964-8d1c-4aff06c0e85a"
      },
      "execution_count": 7,
      "outputs": [
        {
          "output_type": "stream",
          "name": "stdout",
          "text": [
            "Outer condition is true\n",
            "Between inner conditions\n",
            "Inner condition 2\n",
            "End of outer condition\n",
            "After outer condition\n"
          ]
        }
      ]
    },
    {
      "cell_type": "code",
      "source": [
        "x=20\n",
        "if x<50:\n",
        "  print('(first suite)')\n",
        "  print('x is small')\n",
        "else:\n",
        "  print('(second suite)')\n",
        "  print('x is large')"
      ],
      "metadata": {
        "colab": {
          "base_uri": "https://localhost:8080/"
        },
        "id": "J89khAMPXM0k",
        "outputId": "be55f990-6545-4218-bce5-75fbae77539b"
      },
      "execution_count": 8,
      "outputs": [
        {
          "output_type": "stream",
          "name": "stdout",
          "text": [
            "(first suite)\n",
            "x is small\n"
          ]
        }
      ]
    },
    {
      "cell_type": "code",
      "source": [
        "hb= 20000\n",
        "hm= 5000\n",
        "uang=2000\n",
        "\n",
        "if uang>hb:\n",
        "  print('gas beli buku!')\n",
        "elif uang>hm:\n",
        "  print('beli majalah ajaa ya')\n",
        "else:\n",
        "  print('uang tdk cukupp, nabung lagi ya!')"
      ],
      "metadata": {
        "colab": {
          "base_uri": "https://localhost:8080/"
        },
        "id": "KMFbLv-CXeG3",
        "outputId": "65b13700-c4c0-4e54-d416-09e8a47648ce"
      },
      "execution_count": 10,
      "outputs": [
        {
          "output_type": "stream",
          "name": "stdout",
          "text": [
            "uang tdk cukupp, nabung lagi ya!\n"
          ]
        }
      ]
    },
    {
      "cell_type": "code",
      "source": [
        "name = 'berlin'\n",
        "if name=='Lian':\n",
        "  print('Lian cangtip')\n",
        "elif name=='Berlian':\n",
        "  print('berlian yeppeo')\n",
        "elif name=='berlin':\n",
        "  print('berlin kiyowo')\n",
        "elif name=='berliana':\n",
        "  print('berliana is my name')\n",
        "else:\n",
        "  print('i dont know who you are!')"
      ],
      "metadata": {
        "colab": {
          "base_uri": "https://localhost:8080/"
        },
        "id": "nHyxVJ5rXwmF",
        "outputId": "0558334d-c928-4fa3-9cff-c11c1a4b3d52"
      },
      "execution_count": 11,
      "outputs": [
        {
          "output_type": "stream",
          "name": "stdout",
          "text": [
            "berlin kiyowo\n"
          ]
        }
      ]
    },
    {
      "cell_type": "code",
      "source": [
        "if 'a' in 'bar':\n",
        "  print('a in bar')\n",
        "elif 1/0:\n",
        "  print('this wont happen')\n",
        "elif var:\n",
        "  print('this wont either')"
      ],
      "metadata": {
        "colab": {
          "base_uri": "https://localhost:8080/"
        },
        "id": "YbUp8aOzYXQY",
        "outputId": "9e6fe16c-1746-411b-8e4f-f9b3b9aa0204"
      },
      "execution_count": 12,
      "outputs": [
        {
          "output_type": "stream",
          "name": "stdout",
          "text": [
            "a in bar\n"
          ]
        }
      ]
    },
    {
      "cell_type": "code",
      "source": [
        "if 'f' in 'foo':\n",
        "  print('1');\n",
        "  print('2');\n",
        "  print('3');"
      ],
      "metadata": {
        "colab": {
          "base_uri": "https://localhost:8080/"
        },
        "id": "P9Rzdoj-YmLe",
        "outputId": "bb3379d2-d0b8-4c5c-b27a-920cb43297f4"
      },
      "execution_count": 13,
      "outputs": [
        {
          "output_type": "stream",
          "name": "stdout",
          "text": [
            "1\n",
            "2\n",
            "3\n"
          ]
        }
      ]
    },
    {
      "cell_type": "code",
      "source": [
        "raining=False\n",
        "print(\"Let's go to the\", 'beach' if not raining else 'library')"
      ],
      "metadata": {
        "colab": {
          "base_uri": "https://localhost:8080/"
        },
        "id": "oLvDiunpYums",
        "outputId": "bc0c17cf-0d0b-4405-e3e8-9f6b45dd4ad6"
      },
      "execution_count": 14,
      "outputs": [
        {
          "output_type": "stream",
          "name": "stdout",
          "text": [
            "Let's go to the beach\n"
          ]
        }
      ]
    },
    {
      "cell_type": "code",
      "source": [
        "age=12\n",
        "s='teen' if age<21 else 'adult'\n",
        "s"
      ],
      "metadata": {
        "colab": {
          "base_uri": "https://localhost:8080/",
          "height": 35
        },
        "id": "cn_a_h3waSxr",
        "outputId": "141d5161-74e8-47a9-a48e-f13dfb15175d"
      },
      "execution_count": 16,
      "outputs": [
        {
          "output_type": "execute_result",
          "data": {
            "text/plain": [
              "'teen'"
            ],
            "application/vnd.google.colaboratory.intrinsic+json": {
              "type": "string"
            }
          },
          "metadata": {},
          "execution_count": 16
        }
      ]
    },
    {
      "cell_type": "code",
      "source": [
        "'yes' if ('qux' in ['foo','bar','baz']) else 'no'"
      ],
      "metadata": {
        "colab": {
          "base_uri": "https://localhost:8080/",
          "height": 35
        },
        "id": "iI8TbPn-aYti",
        "outputId": "e3019caf-01de-4d57-958e-0c45c6347661"
      },
      "execution_count": 17,
      "outputs": [
        {
          "output_type": "execute_result",
          "data": {
            "text/plain": [
              "'no'"
            ],
            "application/vnd.google.colaboratory.intrinsic+json": {
              "type": "string"
            }
          },
          "metadata": {},
          "execution_count": 17
        }
      ]
    },
    {
      "cell_type": "code",
      "source": [
        "if True:\n",
        "  pass\n",
        "print('foo')"
      ],
      "metadata": {
        "colab": {
          "base_uri": "https://localhost:8080/"
        },
        "id": "Gg278lZYanz6",
        "outputId": "4727d076-8dc8-4fc6-e6a6-806590b3342b"
      },
      "execution_count": 18,
      "outputs": [
        {
          "output_type": "stream",
          "name": "stdout",
          "text": [
            "foo\n"
          ]
        }
      ]
    },
    {
      "cell_type": "code",
      "source": [
        "n=5\n",
        "while n>0:\n",
        "  n -= 1\n",
        "  print(n)"
      ],
      "metadata": {
        "colab": {
          "base_uri": "https://localhost:8080/"
        },
        "id": "3XcHmA4_axWJ",
        "outputId": "06e70d94-f713-447d-af89-baf5bedbc16e"
      },
      "execution_count": 19,
      "outputs": [
        {
          "output_type": "stream",
          "name": "stdout",
          "text": [
            "4\n",
            "3\n",
            "2\n",
            "1\n",
            "0\n"
          ]
        }
      ]
    },
    {
      "cell_type": "code",
      "source": [
        "i=1\n",
        "while i<6:\n",
        "  print(i)\n",
        "  i+=1"
      ],
      "metadata": {
        "colab": {
          "base_uri": "https://localhost:8080/"
        },
        "id": "TXQznFOpa2_8",
        "outputId": "c27c338f-c43c-4c6c-f425-b6acf34a5887"
      },
      "execution_count": 20,
      "outputs": [
        {
          "output_type": "stream",
          "name": "stdout",
          "text": [
            "1\n",
            "2\n",
            "3\n",
            "4\n",
            "5\n"
          ]
        }
      ]
    },
    {
      "cell_type": "code",
      "source": [
        "n=5\n",
        "while n>0:\n",
        "  n -= 1\n",
        "  if n==2:\n",
        "    break\n",
        "  print(n)\n",
        "print('Loop berakhirr')"
      ],
      "metadata": {
        "colab": {
          "base_uri": "https://localhost:8080/"
        },
        "id": "gPziiBAha8QH",
        "outputId": "d82f2fab-1a5d-4db4-fa7c-19d7bc32430b"
      },
      "execution_count": 21,
      "outputs": [
        {
          "output_type": "stream",
          "name": "stdout",
          "text": [
            "4\n",
            "3\n",
            "Loop berakhirr\n"
          ]
        }
      ]
    },
    {
      "cell_type": "code",
      "source": [
        "n=5\n",
        "while n>0:\n",
        "  n -= 1\n",
        "  if n==2:\n",
        "    continue\n",
        "  print(n)\n",
        "print('Loop berakhirr')"
      ],
      "metadata": {
        "colab": {
          "base_uri": "https://localhost:8080/"
        },
        "id": "BSM2hyM0cFnf",
        "outputId": "38e0881b-58c7-46d6-c72a-6ed22271608b"
      },
      "execution_count": 22,
      "outputs": [
        {
          "output_type": "stream",
          "name": "stdout",
          "text": [
            "4\n",
            "3\n",
            "1\n",
            "0\n",
            "Loop berakhirr\n"
          ]
        }
      ]
    },
    {
      "cell_type": "code",
      "source": [
        "gender = 'F'\n",
        "age = 22\n",
        "if age<18:\n",
        "  if gender=='M':\n",
        "    print('son')\n",
        "  else:\n",
        "    print('daughter')\n",
        "elif age>=18 and age<65:\n",
        "  if gender=='M':\n",
        "    print('father')\n",
        "  else:\n",
        "    print('mother')\n",
        "else:\n",
        "  if gender == 'M':\n",
        "    print('grandfather')\n",
        "  else:\n",
        "    print('grandmother')\n"
      ],
      "metadata": {
        "colab": {
          "base_uri": "https://localhost:8080/"
        },
        "id": "MfA_D-w8cM9P",
        "outputId": "87a8a763-96fb-49df-c7f6-dc69499f538f"
      },
      "execution_count": 24,
      "outputs": [
        {
          "output_type": "stream",
          "name": "stdout",
          "text": [
            "mother\n"
          ]
        }
      ]
    },
    {
      "cell_type": "code",
      "source": [
        "a=['foo','bar']\n",
        "\n",
        "while len(a):\n",
        "  print(a.pop(0))\n",
        "  b=['baz','qux']\n",
        "  while len(b):\n",
        "    print('>',b.pop(0))"
      ],
      "metadata": {
        "colab": {
          "base_uri": "https://localhost:8080/"
        },
        "id": "HRf24GvpdLk9",
        "outputId": "5a4e4040-09ac-4e18-e9c1-8a0fb6d98551"
      },
      "execution_count": 25,
      "outputs": [
        {
          "output_type": "stream",
          "name": "stdout",
          "text": [
            "foo\n",
            "> baz\n",
            "> qux\n",
            "bar\n",
            "> baz\n",
            "> qux\n"
          ]
        }
      ]
    },
    {
      "cell_type": "code",
      "source": [
        "n=5\n",
        "while n>0: n -= 1; print(n)"
      ],
      "metadata": {
        "colab": {
          "base_uri": "https://localhost:8080/"
        },
        "id": "YCRnDvNWdfgY",
        "outputId": "a64d8a10-e574-4a65-aaac-6f6a6f523b33"
      },
      "execution_count": 26,
      "outputs": [
        {
          "output_type": "stream",
          "name": "stdout",
          "text": [
            "4\n",
            "3\n",
            "2\n",
            "1\n",
            "0\n"
          ]
        }
      ]
    },
    {
      "cell_type": "code",
      "source": [
        "for i in range(5):\n",
        "    if i == 2:\n",
        "        pass  # coba ganti ke continue, hasilnya pasti beda\n",
        "    print(i)\n"
      ],
      "metadata": {
        "colab": {
          "base_uri": "https://localhost:8080/"
        },
        "id": "tGUYTwxMeJdW",
        "outputId": "2547c01c-e7d2-418b-b4c6-3c5fe4606a73"
      },
      "execution_count": 27,
      "outputs": [
        {
          "output_type": "stream",
          "name": "stdout",
          "text": [
            "0\n",
            "1\n",
            "2\n",
            "3\n",
            "4\n"
          ]
        }
      ]
    },
    {
      "cell_type": "code",
      "source": [
        "a = ['berlin','neomu','yeppeo']\n",
        "for i in a:\n",
        "  print(i)"
      ],
      "metadata": {
        "colab": {
          "base_uri": "https://localhost:8080/"
        },
        "id": "JezIoRateKuw",
        "outputId": "17f72a54-3006-47da-b30f-275423d19461"
      },
      "execution_count": 28,
      "outputs": [
        {
          "output_type": "stream",
          "name": "stdout",
          "text": [
            "berlin\n",
            "neomu\n",
            "yeppeo\n"
          ]
        }
      ]
    },
    {
      "cell_type": "code",
      "source": [
        "d={'foo':1,'bar':2,'baz':3}\n",
        "for k in d:\n",
        "  print(k)"
      ],
      "metadata": {
        "colab": {
          "base_uri": "https://localhost:8080/"
        },
        "id": "PpMFD8dieldj",
        "outputId": "ba4b48df-f65e-4115-8478-462227251322"
      },
      "execution_count": 29,
      "outputs": [
        {
          "output_type": "stream",
          "name": "stdout",
          "text": [
            "foo\n",
            "bar\n",
            "baz\n"
          ]
        }
      ]
    },
    {
      "cell_type": "code",
      "source": [
        "for k in d:\n",
        "  print(d[k])"
      ],
      "metadata": {
        "colab": {
          "base_uri": "https://localhost:8080/"
        },
        "id": "tgTFx_tcet0Q",
        "outputId": "bde035d5-267c-4d26-8a2e-5796df40e597"
      },
      "execution_count": 30,
      "outputs": [
        {
          "output_type": "stream",
          "name": "stdout",
          "text": [
            "1\n",
            "2\n",
            "3\n"
          ]
        }
      ]
    },
    {
      "cell_type": "code",
      "source": [
        "for k in d.values():\n",
        "  print(k)"
      ],
      "metadata": {
        "colab": {
          "base_uri": "https://localhost:8080/"
        },
        "id": "tF5u8a3zexQ0",
        "outputId": "8fd20081-973e-4060-d483-f77f8cee5bcc"
      },
      "execution_count": 31,
      "outputs": [
        {
          "output_type": "stream",
          "name": "stdout",
          "text": [
            "1\n",
            "2\n",
            "3\n"
          ]
        }
      ]
    },
    {
      "cell_type": "code",
      "source": [
        "for k, v in d.items():\n",
        "  print(k,\":\",v)"
      ],
      "metadata": {
        "colab": {
          "base_uri": "https://localhost:8080/"
        },
        "id": "YuQyGXime2lK",
        "outputId": "34ba99b9-9588-4171-e453-45ac795cd06b"
      },
      "execution_count": 32,
      "outputs": [
        {
          "output_type": "stream",
          "name": "stdout",
          "text": [
            "foo : 1\n",
            "bar : 2\n",
            "baz : 3\n"
          ]
        }
      ]
    },
    {
      "cell_type": "code",
      "source": [
        "for k in d.items():\n",
        "  print(k)"
      ],
      "metadata": {
        "colab": {
          "base_uri": "https://localhost:8080/"
        },
        "id": "r-T3uLQ7e9uV",
        "outputId": "77bd6a68-b781-4882-ccee-4ed4ec8e169d"
      },
      "execution_count": 33,
      "outputs": [
        {
          "output_type": "stream",
          "name": "stdout",
          "text": [
            "('foo', 1)\n",
            "('bar', 2)\n",
            "('baz', 3)\n"
          ]
        }
      ]
    },
    {
      "cell_type": "code",
      "source": [
        "for i in ['foo','bar','baz','qux']:\n",
        "  if 'b' in i:\n",
        "    break\n",
        "  print(i)"
      ],
      "metadata": {
        "colab": {
          "base_uri": "https://localhost:8080/"
        },
        "id": "6DqEZOcEfBAz",
        "outputId": "89ba554e-3bae-4b61-f2f0-7b5fa7b67266"
      },
      "execution_count": 34,
      "outputs": [
        {
          "output_type": "stream",
          "name": "stdout",
          "text": [
            "foo\n"
          ]
        }
      ]
    },
    {
      "cell_type": "code",
      "source": [
        "for i in ['foo', 'bar', 'baz', 'qux']:\n",
        "    if 'b' in i:\n",
        "        continue\n",
        "    print(i)"
      ],
      "metadata": {
        "colab": {
          "base_uri": "https://localhost:8080/"
        },
        "id": "v8AO-8SffY_M",
        "outputId": "4215dbe7-4049-440c-86b6-e303f83aa944"
      },
      "execution_count": 35,
      "outputs": [
        {
          "output_type": "stream",
          "name": "stdout",
          "text": [
            "foo\n",
            "qux\n"
          ]
        }
      ]
    },
    {
      "cell_type": "code",
      "source": [
        "for i in ['foo', 'bar', 'baz', 'qux']:\n",
        "    print(i)\n",
        "else:\n",
        "    print('Done yaa')"
      ],
      "metadata": {
        "colab": {
          "base_uri": "https://localhost:8080/"
        },
        "id": "7YDLagA3fdxR",
        "outputId": "2628ceb0-e38e-447c-9254-acc1bdf925b8"
      },
      "execution_count": 38,
      "outputs": [
        {
          "output_type": "stream",
          "name": "stdout",
          "text": [
            "foo\n",
            "bar\n",
            "baz\n",
            "qux\n",
            "Done yaa\n"
          ]
        }
      ]
    },
    {
      "cell_type": "code",
      "source": [
        "for i in ['foo', 'bar','baz','qux']:\n",
        "  if i=='bar':\n",
        "    break\n",
        "  print(i)\n",
        "else:\n",
        "  print('done')"
      ],
      "metadata": {
        "colab": {
          "base_uri": "https://localhost:8080/"
        },
        "id": "W89klFhqfgm6",
        "outputId": "c6aaedc3-bcb9-4085-c3c2-cd04892664e3"
      },
      "execution_count": 40,
      "outputs": [
        {
          "output_type": "stream",
          "name": "stdout",
          "text": [
            "foo\n"
          ]
        }
      ]
    },
    {
      "cell_type": "code",
      "source": [
        "temp = input(\"Ketikkan temperatur yang ingin dikonversi, eg. 45F, 120C: \")\n",
        "\n",
        "try:\n",
        "  degree = int(temp[:-1])\n",
        "  i_convertion = temp[-1]\n",
        "\n",
        "  if i_convertion == \"C\":\n",
        "    result = int(round((9*degree)/5 +32))\n",
        "  elif i_convertion == \"F\":\n",
        "    result = int(round((degree-32)*5 /9))\n",
        "  else:\n",
        "    print(\"Masukkan input yang benar\")\n",
        "\n",
        "  print(\"Temperaturenya adalah\", result, 'derajat')\n",
        "\n",
        "except:\n",
        "  print(\"Masukkan input yang benerrr, sesuai contohh plis\")"
      ],
      "metadata": {
        "colab": {
          "base_uri": "https://localhost:8080/"
        },
        "id": "mF1BvsJvfxEo",
        "outputId": "977270bf-e345-4db2-8c79-ad404bb3af95"
      },
      "execution_count": 44,
      "outputs": [
        {
          "output_type": "stream",
          "name": "stdout",
          "text": [
            "Ketikkan temperatur yang ingin dikonversi, eg. 45F, 120C: 1\n",
            "Masukkan input yang benerrr, sesuai contohh plis\n"
          ]
        }
      ]
    },
    {
      "cell_type": "code",
      "source": [
        "while True:\n",
        "  msg= input(\"Ketikkan karakter: \").lower()\n",
        "  print(msg)\n",
        "  if msg == 'stop':\n",
        "    break"
      ],
      "metadata": {
        "colab": {
          "base_uri": "https://localhost:8080/"
        },
        "id": "MmTJ3slLhNwq",
        "outputId": "b61e2a66-680b-44dd-ba06-63d143f306a6"
      },
      "execution_count": 45,
      "outputs": [
        {
          "output_type": "stream",
          "name": "stdout",
          "text": [
            "Ketikkan karakter: hoho\n",
            "hoho\n",
            "Ketikkan karakter: haha\n",
            "haha\n",
            "Ketikkan karakter: hihi\n",
            "hihi\n",
            "Ketikkan karakter: setop\n",
            "setop\n",
            "Ketikkan karakter: stop\n",
            "stop\n"
          ]
        }
      ]
    },
    {
      "cell_type": "code",
      "source": [],
      "metadata": {
        "id": "H76t_LJoiCZU"
      },
      "execution_count": null,
      "outputs": []
    }
  ]
}