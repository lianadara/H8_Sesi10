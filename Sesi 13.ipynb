{
 "cells": [
  {
   "cell_type": "code",
   "execution_count": 1,
   "metadata": {},
   "outputs": [
    {
     "name": "stdout",
     "output_type": "stream",
     "text": [
      "b is greater than a\n"
     ]
    }
   ],
   "source": [
    "a=33\n",
    "b=200\n",
    "if b>a:\n",
    "    print(\"b is greater than a\")\n",
    "elif a==b:\n",
    "    print(\"a and b are equal\")\n",
    "else:\n",
    "    print(\"a is greater than b\")"
   ]
  },
  {
   "cell_type": "code",
   "execution_count": 3,
   "metadata": {},
   "outputs": [
    {
     "name": "stdout",
     "output_type": "stream",
     "text": [
      "A\n",
      "both conditions are true\n"
     ]
    }
   ],
   "source": [
    "a=200\n",
    "b=33\n",
    "c=500\n",
    "print(\"A\") if a>b else print(\"B\")\n",
    "if a>b and c>a:\n",
    "    print(\"both conditions are true\")\n",
    "if a>b and a>c:\n",
    "    print(\"at least one of the conditions is True\")"
   ]
  },
  {
   "cell_type": "code",
   "execution_count": 6,
   "metadata": {},
   "outputs": [
    {
     "name": "stdout",
     "output_type": "stream",
     "text": [
      "Hello berlin\n"
     ]
    }
   ],
   "source": [
    "def my_function():\n",
    "    print(\"Hello berlin\")\n",
    "\n",
    "my_function()"
   ]
  },
  {
   "cell_type": "code",
   "execution_count": 7,
   "metadata": {},
   "outputs": [
    {
     "name": "stdout",
     "output_type": "stream",
     "text": [
      "berliana fitria\n"
     ]
    }
   ],
   "source": [
    "def my_function(fname, lname):\n",
    "    print(fname+\" \"+lname)\n",
    "my_function(\"berliana\",\"fitria\")"
   ]
  },
  {
   "cell_type": "code",
   "execution_count": 8,
   "metadata": {},
   "outputs": [],
   "source": [
    "import pyodbc"
   ]
  },
  {
   "cell_type": "code",
   "execution_count": 10,
   "metadata": {},
   "outputs": [],
   "source": [
    "conn = pyodbc.connect('Driver={SQL Server};'\n",
    "                      'Server=DESKTOP-BERLIAN;'\n",
    "                      'Database=BitMedia;'\n",
    "                      'Trusted_Connection=yes;')"
   ]
  },
  {
   "cell_type": "code",
   "execution_count": 22,
   "metadata": {},
   "outputs": [
    {
     "name": "stdout",
     "output_type": "stream",
     "text": [
      "    id branch_id           branch_name               city\n",
      "0    1      B001          Bitmedia BSD  Tangerang Selatan\n",
      "1    2      B002         Bitmedia SCBD      Jakarta Pusat\n",
      "2    3      B003  Bitmedia Alam Sutera  Tangerang Selatan\n",
      "3    4      B004      Bitmedia Bintaro  Tangerang Selatan\n",
      "4    5      B005     Bitmedia Cikarang             Bekasi\n",
      "..  ..       ...                   ...                ...\n",
      "62  63      B063    Bitmedia Cimanggis              Depok\n",
      "63  64      B064       Bitmedia Cinere              Depok\n",
      "64  65      B065     Bitmedia Cibinong              Bogor\n",
      "65  66      B066        Bitmedia Ciawi              Bogor\n",
      "66  67      B067       Bitmedia Parung              Bogor\n",
      "\n",
      "[67 rows x 4 columns]\n"
     ]
    },
    {
     "name": "stderr",
     "output_type": "stream",
     "text": [
      "C:\\Users\\Berliana Fitria Dewi\\AppData\\Local\\Temp\\ipykernel_20608\\2215947372.py:2: UserWarning: pandas only supports SQLAlchemy connectable (engine/connection) or database string URI or sqlite3 DBAPI2 connection. Other DBAPI2 objects are not tested. Please consider using SQLAlchemy.\n",
      "  df = pd.read_sql_query('SELECT * FROM branch', conn)\n"
     ]
    }
   ],
   "source": [
    "import pandas as pd\n",
    "df = pd.read_sql_query('SELECT * FROM branch', conn)\n",
    "\n",
    "print(df)"
   ]
  },
  {
   "cell_type": "code",
   "execution_count": 16,
   "metadata": {},
   "outputs": [],
   "source": [
    "df.to_csv(\"table_branch.csv\",index=False)"
   ]
  },
  {
   "cell_type": "code",
   "execution_count": 17,
   "metadata": {},
   "outputs": [
    {
     "data": {
      "text/html": [
       "<div>\n",
       "<style scoped>\n",
       "    .dataframe tbody tr th:only-of-type {\n",
       "        vertical-align: middle;\n",
       "    }\n",
       "\n",
       "    .dataframe tbody tr th {\n",
       "        vertical-align: top;\n",
       "    }\n",
       "\n",
       "    .dataframe thead th {\n",
       "        text-align: right;\n",
       "    }\n",
       "</style>\n",
       "<table border=\"1\" class=\"dataframe\">\n",
       "  <thead>\n",
       "    <tr style=\"text-align: right;\">\n",
       "      <th></th>\n",
       "      <th>id</th>\n",
       "      <th>branch_id</th>\n",
       "      <th>branch_name</th>\n",
       "      <th>city</th>\n",
       "    </tr>\n",
       "  </thead>\n",
       "  <tbody>\n",
       "    <tr>\n",
       "      <th>0</th>\n",
       "      <td>1</td>\n",
       "      <td>B001</td>\n",
       "      <td>Bitmedia BSD</td>\n",
       "      <td>Tangerang Selatan</td>\n",
       "    </tr>\n",
       "    <tr>\n",
       "      <th>1</th>\n",
       "      <td>2</td>\n",
       "      <td>B002</td>\n",
       "      <td>Bitmedia SCBD</td>\n",
       "      <td>Jakarta Pusat</td>\n",
       "    </tr>\n",
       "    <tr>\n",
       "      <th>2</th>\n",
       "      <td>3</td>\n",
       "      <td>B003</td>\n",
       "      <td>Bitmedia Alam Sutera</td>\n",
       "      <td>Tangerang Selatan</td>\n",
       "    </tr>\n",
       "    <tr>\n",
       "      <th>3</th>\n",
       "      <td>4</td>\n",
       "      <td>B004</td>\n",
       "      <td>Bitmedia Bintaro</td>\n",
       "      <td>Tangerang Selatan</td>\n",
       "    </tr>\n",
       "    <tr>\n",
       "      <th>4</th>\n",
       "      <td>5</td>\n",
       "      <td>B005</td>\n",
       "      <td>Bitmedia Cikarang</td>\n",
       "      <td>Bekasi</td>\n",
       "    </tr>\n",
       "    <tr>\n",
       "      <th>...</th>\n",
       "      <td>...</td>\n",
       "      <td>...</td>\n",
       "      <td>...</td>\n",
       "      <td>...</td>\n",
       "    </tr>\n",
       "    <tr>\n",
       "      <th>62</th>\n",
       "      <td>63</td>\n",
       "      <td>B063</td>\n",
       "      <td>Bitmedia Cimanggis</td>\n",
       "      <td>Depok</td>\n",
       "    </tr>\n",
       "    <tr>\n",
       "      <th>63</th>\n",
       "      <td>64</td>\n",
       "      <td>B064</td>\n",
       "      <td>Bitmedia Cinere</td>\n",
       "      <td>Depok</td>\n",
       "    </tr>\n",
       "    <tr>\n",
       "      <th>64</th>\n",
       "      <td>65</td>\n",
       "      <td>B065</td>\n",
       "      <td>Bitmedia Cibinong</td>\n",
       "      <td>Bogor</td>\n",
       "    </tr>\n",
       "    <tr>\n",
       "      <th>65</th>\n",
       "      <td>66</td>\n",
       "      <td>B066</td>\n",
       "      <td>Bitmedia Ciawi</td>\n",
       "      <td>Bogor</td>\n",
       "    </tr>\n",
       "    <tr>\n",
       "      <th>66</th>\n",
       "      <td>67</td>\n",
       "      <td>B067</td>\n",
       "      <td>Bitmedia Parung</td>\n",
       "      <td>Bogor</td>\n",
       "    </tr>\n",
       "  </tbody>\n",
       "</table>\n",
       "<p>67 rows × 4 columns</p>\n",
       "</div>"
      ],
      "text/plain": [
       "    id branch_id           branch_name               city\n",
       "0    1      B001          Bitmedia BSD  Tangerang Selatan\n",
       "1    2      B002         Bitmedia SCBD      Jakarta Pusat\n",
       "2    3      B003  Bitmedia Alam Sutera  Tangerang Selatan\n",
       "3    4      B004      Bitmedia Bintaro  Tangerang Selatan\n",
       "4    5      B005     Bitmedia Cikarang             Bekasi\n",
       "..  ..       ...                   ...                ...\n",
       "62  63      B063    Bitmedia Cimanggis              Depok\n",
       "63  64      B064       Bitmedia Cinere              Depok\n",
       "64  65      B065     Bitmedia Cibinong              Bogor\n",
       "65  66      B066        Bitmedia Ciawi              Bogor\n",
       "66  67      B067       Bitmedia Parung              Bogor\n",
       "\n",
       "[67 rows x 4 columns]"
      ]
     },
     "execution_count": 17,
     "metadata": {},
     "output_type": "execute_result"
    }
   ],
   "source": [
    "df_csv = pd.read_csv('table_branch.csv')\n",
    "df_csv"
   ]
  },
  {
   "cell_type": "code",
   "execution_count": 19,
   "metadata": {},
   "outputs": [
    {
     "data": {
      "text/html": [
       "<div>\n",
       "<style scoped>\n",
       "    .dataframe tbody tr th:only-of-type {\n",
       "        vertical-align: middle;\n",
       "    }\n",
       "\n",
       "    .dataframe tbody tr th {\n",
       "        vertical-align: top;\n",
       "    }\n",
       "\n",
       "    .dataframe thead th {\n",
       "        text-align: right;\n",
       "    }\n",
       "</style>\n",
       "<table border=\"1\" class=\"dataframe\">\n",
       "  <thead>\n",
       "    <tr style=\"text-align: right;\">\n",
       "      <th></th>\n",
       "      <th>id</th>\n",
       "      <th>branch_id</th>\n",
       "      <th>branch_name</th>\n",
       "      <th>city</th>\n",
       "    </tr>\n",
       "  </thead>\n",
       "  <tbody>\n",
       "    <tr>\n",
       "      <th>2</th>\n",
       "      <td>3</td>\n",
       "      <td>B003</td>\n",
       "      <td>Bitmedia Alam Sutera</td>\n",
       "      <td>Tangerang Selatan</td>\n",
       "    </tr>\n",
       "    <tr>\n",
       "      <th>0</th>\n",
       "      <td>1</td>\n",
       "      <td>B001</td>\n",
       "      <td>Bitmedia BSD</td>\n",
       "      <td>Tangerang Selatan</td>\n",
       "    </tr>\n",
       "    <tr>\n",
       "      <th>22</th>\n",
       "      <td>23</td>\n",
       "      <td>B023</td>\n",
       "      <td>Bitmedia Bekasi Barat</td>\n",
       "      <td>Bekasi</td>\n",
       "    </tr>\n",
       "    <tr>\n",
       "      <th>23</th>\n",
       "      <td>24</td>\n",
       "      <td>B024</td>\n",
       "      <td>Bitmedia Bekasi Timur</td>\n",
       "      <td>Bekasi</td>\n",
       "    </tr>\n",
       "    <tr>\n",
       "      <th>24</th>\n",
       "      <td>25</td>\n",
       "      <td>B025</td>\n",
       "      <td>Bitmedia Bekasi Utara</td>\n",
       "      <td>Bekasi</td>\n",
       "    </tr>\n",
       "    <tr>\n",
       "      <th>...</th>\n",
       "      <td>...</td>\n",
       "      <td>...</td>\n",
       "      <td>...</td>\n",
       "      <td>...</td>\n",
       "    </tr>\n",
       "    <tr>\n",
       "      <th>54</th>\n",
       "      <td>55</td>\n",
       "      <td>B055</td>\n",
       "      <td>Bitmedia Tanjung Duren</td>\n",
       "      <td>Jakarta Barat</td>\n",
       "    </tr>\n",
       "    <tr>\n",
       "      <th>17</th>\n",
       "      <td>18</td>\n",
       "      <td>B018</td>\n",
       "      <td>Bitmedia Tebet</td>\n",
       "      <td>Jakarta Selatan</td>\n",
       "    </tr>\n",
       "    <tr>\n",
       "      <th>19</th>\n",
       "      <td>20</td>\n",
       "      <td>B020</td>\n",
       "      <td>Bitmedia Thamrin</td>\n",
       "      <td>Jakarta Pusat</td>\n",
       "    </tr>\n",
       "    <tr>\n",
       "      <th>20</th>\n",
       "      <td>21</td>\n",
       "      <td>B021</td>\n",
       "      <td>Bitmedia Utan Kayu</td>\n",
       "      <td>Jakarta Timur</td>\n",
       "    </tr>\n",
       "    <tr>\n",
       "      <th>21</th>\n",
       "      <td>22</td>\n",
       "      <td>B022</td>\n",
       "      <td>Bitmedia Warakas</td>\n",
       "      <td>Jakarta Utara</td>\n",
       "    </tr>\n",
       "  </tbody>\n",
       "</table>\n",
       "<p>67 rows × 4 columns</p>\n",
       "</div>"
      ],
      "text/plain": [
       "    id branch_id             branch_name               city\n",
       "2    3      B003    Bitmedia Alam Sutera  Tangerang Selatan\n",
       "0    1      B001            Bitmedia BSD  Tangerang Selatan\n",
       "22  23      B023   Bitmedia Bekasi Barat             Bekasi\n",
       "23  24      B024   Bitmedia Bekasi Timur             Bekasi\n",
       "24  25      B025   Bitmedia Bekasi Utara             Bekasi\n",
       "..  ..       ...                     ...                ...\n",
       "54  55      B055  Bitmedia Tanjung Duren      Jakarta Barat\n",
       "17  18      B018          Bitmedia Tebet    Jakarta Selatan\n",
       "19  20      B020        Bitmedia Thamrin      Jakarta Pusat\n",
       "20  21      B021      Bitmedia Utan Kayu      Jakarta Timur\n",
       "21  22      B022        Bitmedia Warakas      Jakarta Utara\n",
       "\n",
       "[67 rows x 4 columns]"
      ]
     },
     "execution_count": 19,
     "metadata": {},
     "output_type": "execute_result"
    }
   ],
   "source": [
    "df2 = df.sort_values('branch_name')\n",
    "df2"
   ]
  },
  {
   "cell_type": "code",
   "execution_count": 20,
   "metadata": {},
   "outputs": [],
   "source": [
    "df.to_excel('df_excel.xlsx',index=False)"
   ]
  },
  {
   "cell_type": "code",
   "execution_count": 21,
   "metadata": {},
   "outputs": [
    {
     "data": {
      "text/html": [
       "<div>\n",
       "<style scoped>\n",
       "    .dataframe tbody tr th:only-of-type {\n",
       "        vertical-align: middle;\n",
       "    }\n",
       "\n",
       "    .dataframe tbody tr th {\n",
       "        vertical-align: top;\n",
       "    }\n",
       "\n",
       "    .dataframe thead th {\n",
       "        text-align: right;\n",
       "    }\n",
       "</style>\n",
       "<table border=\"1\" class=\"dataframe\">\n",
       "  <thead>\n",
       "    <tr style=\"text-align: right;\">\n",
       "      <th></th>\n",
       "      <th>id</th>\n",
       "      <th>branch_id</th>\n",
       "      <th>branch_name</th>\n",
       "      <th>city</th>\n",
       "    </tr>\n",
       "  </thead>\n",
       "  <tbody>\n",
       "    <tr>\n",
       "      <th>0</th>\n",
       "      <td>1</td>\n",
       "      <td>B001</td>\n",
       "      <td>Bitmedia BSD</td>\n",
       "      <td>Tangerang Selatan</td>\n",
       "    </tr>\n",
       "    <tr>\n",
       "      <th>1</th>\n",
       "      <td>2</td>\n",
       "      <td>B002</td>\n",
       "      <td>Bitmedia SCBD</td>\n",
       "      <td>Jakarta Pusat</td>\n",
       "    </tr>\n",
       "    <tr>\n",
       "      <th>2</th>\n",
       "      <td>3</td>\n",
       "      <td>B003</td>\n",
       "      <td>Bitmedia Alam Sutera</td>\n",
       "      <td>Tangerang Selatan</td>\n",
       "    </tr>\n",
       "    <tr>\n",
       "      <th>3</th>\n",
       "      <td>4</td>\n",
       "      <td>B004</td>\n",
       "      <td>Bitmedia Bintaro</td>\n",
       "      <td>Tangerang Selatan</td>\n",
       "    </tr>\n",
       "    <tr>\n",
       "      <th>4</th>\n",
       "      <td>5</td>\n",
       "      <td>B005</td>\n",
       "      <td>Bitmedia Cikarang</td>\n",
       "      <td>Bekasi</td>\n",
       "    </tr>\n",
       "    <tr>\n",
       "      <th>...</th>\n",
       "      <td>...</td>\n",
       "      <td>...</td>\n",
       "      <td>...</td>\n",
       "      <td>...</td>\n",
       "    </tr>\n",
       "    <tr>\n",
       "      <th>62</th>\n",
       "      <td>63</td>\n",
       "      <td>B063</td>\n",
       "      <td>Bitmedia Cimanggis</td>\n",
       "      <td>Depok</td>\n",
       "    </tr>\n",
       "    <tr>\n",
       "      <th>63</th>\n",
       "      <td>64</td>\n",
       "      <td>B064</td>\n",
       "      <td>Bitmedia Cinere</td>\n",
       "      <td>Depok</td>\n",
       "    </tr>\n",
       "    <tr>\n",
       "      <th>64</th>\n",
       "      <td>65</td>\n",
       "      <td>B065</td>\n",
       "      <td>Bitmedia Cibinong</td>\n",
       "      <td>Bogor</td>\n",
       "    </tr>\n",
       "    <tr>\n",
       "      <th>65</th>\n",
       "      <td>66</td>\n",
       "      <td>B066</td>\n",
       "      <td>Bitmedia Ciawi</td>\n",
       "      <td>Bogor</td>\n",
       "    </tr>\n",
       "    <tr>\n",
       "      <th>66</th>\n",
       "      <td>67</td>\n",
       "      <td>B067</td>\n",
       "      <td>Bitmedia Parung</td>\n",
       "      <td>Bogor</td>\n",
       "    </tr>\n",
       "  </tbody>\n",
       "</table>\n",
       "<p>67 rows × 4 columns</p>\n",
       "</div>"
      ],
      "text/plain": [
       "    id branch_id           branch_name               city\n",
       "0    1      B001          Bitmedia BSD  Tangerang Selatan\n",
       "1    2      B002         Bitmedia SCBD      Jakarta Pusat\n",
       "2    3      B003  Bitmedia Alam Sutera  Tangerang Selatan\n",
       "3    4      B004      Bitmedia Bintaro  Tangerang Selatan\n",
       "4    5      B005     Bitmedia Cikarang             Bekasi\n",
       "..  ..       ...                   ...                ...\n",
       "62  63      B063    Bitmedia Cimanggis              Depok\n",
       "63  64      B064       Bitmedia Cinere              Depok\n",
       "64  65      B065     Bitmedia Cibinong              Bogor\n",
       "65  66      B066        Bitmedia Ciawi              Bogor\n",
       "66  67      B067       Bitmedia Parung              Bogor\n",
       "\n",
       "[67 rows x 4 columns]"
      ]
     },
     "execution_count": 21,
     "metadata": {},
     "output_type": "execute_result"
    }
   ],
   "source": [
    "df_xls = pd.read_excel(\"df_excel.xlsx\")\n",
    "df_xls"
   ]
  },
  {
   "cell_type": "code",
   "execution_count": null,
   "metadata": {},
   "outputs": [],
   "source": [
    "import subprocess\n"
   ]
  }
 ],
 "metadata": {
  "kernelspec": {
   "display_name": "base",
   "language": "python",
   "name": "python3"
  },
  "language_info": {
   "codemirror_mode": {
    "name": "ipython",
    "version": 3
   },
   "file_extension": ".py",
   "mimetype": "text/x-python",
   "name": "python",
   "nbconvert_exporter": "python",
   "pygments_lexer": "ipython3",
   "version": "3.11.5"
  }
 },
 "nbformat": 4,
 "nbformat_minor": 2
}
