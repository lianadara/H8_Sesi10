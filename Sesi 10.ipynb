{
 "cells": [
  {
   "cell_type": "code",
   "execution_count": 3,
   "id": "04a453b6",
   "metadata": {},
   "outputs": [
    {
     "name": "stdout",
     "output_type": "stream",
     "text": [
      "\n",
      "+================================+\n",
      "| Welcome to my game, muggle!    |\n",
      "| Enter an integer number        |\n",
      "| and guess what number I've     |\n",
      "| picked for you.                |\n",
      "| So, what is the secret number? |\n",
      "+================================+\n",
      "\n",
      "So, what is the secret number? 21\n",
      "Ha ha! You're stuck in my loop!\n",
      "So, what is the secret number? 20\n",
      "Ha ha! You're stuck in my loop!\n",
      "So, what is the secret number? 22\n",
      "Well done, muggle! You are free now.\n"
     ]
    }
   ],
   "source": [
    "secretNumber = 22\n",
    "\n",
    "print(\n",
    "\"\"\"\n",
    "+================================+\n",
    "| Welcome to my game, muggle!    |\n",
    "| Enter an integer number        |\n",
    "| and guess what number I've     |\n",
    "| picked for you.                |\n",
    "| So, what is the secret number? |\n",
    "+================================+\n",
    "\"\"\")\n",
    "\n",
    "guessNumber = 0\n",
    "\n",
    "while guessNumber != secretNumber:\n",
    "    guessNumber = int(input(\"So, what is the secret number? \"))\n",
    "    if guessNumber != secretNumber:\n",
    "        print(\"Ha ha! You're stuck in my loop!\")\n",
    "\n",
    "print(\"Well done, muggle! You are free now.\")"
   ]
  },
  {
   "cell_type": "code",
   "execution_count": 6,
   "id": "516d9ebe",
   "metadata": {},
   "outputs": [
    {
     "name": "stdout",
     "output_type": "stream",
     "text": [
      "\n",
      "+=======================+\n",
      "|Welcome to my game!    |\n",
      "|Enter an integer number|\n",
      "|and guess what number  |\n",
      "|i've picked for you    |\n",
      "|So, what's the number? |\n",
      "+=======================+\n",
      "\n",
      "Masukkan angka tebakanmu: 23\n",
      "Hoahahah, salaahhh!!\n",
      "Masukkan angka tebakanmu: 22\n",
      "Yeee benerr\n"
     ]
    }
   ],
   "source": [
    "secretNumber = 22\n",
    "print(\n",
    "\"\"\"\n",
    "+=======================+\n",
    "|Welcome to my game!    |\n",
    "|Enter an integer number|\n",
    "|and guess what number  |\n",
    "|i've picked for you    |\n",
    "|So, what's the number? |\n",
    "+=======================+\n",
    "\"\"\")\n",
    "\n",
    "guessNumber = 0\n",
    "while guessNumber != secretNumber:\n",
    "    guessNumber = int(input(\"Masukkan angka tebakanmu: \"))\n",
    "    if guessNumber != secretNumber:\n",
    "        print(\"Hoahahah, salaahhh!!\")\n",
    "    else:\n",
    "        print(\"Yeee benerr\")\n"
   ]
  },
  {
   "cell_type": "code",
   "execution_count": null,
   "id": "c6ea427c",
   "metadata": {},
   "outputs": [],
   "source": []
  }
 ],
 "metadata": {
  "kernelspec": {
   "display_name": "Python 3 (ipykernel)",
   "language": "python",
   "name": "python3"
  },
  "language_info": {
   "codemirror_mode": {
    "name": "ipython",
    "version": 3
   },
   "file_extension": ".py",
   "mimetype": "text/x-python",
   "name": "python",
   "nbconvert_exporter": "python",
   "pygments_lexer": "ipython3",
   "version": "3.11.5"
  }
 },
 "nbformat": 4,
 "nbformat_minor": 5
}
